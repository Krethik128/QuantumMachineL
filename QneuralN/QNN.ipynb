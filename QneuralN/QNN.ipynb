{
 "cells": [
  {
   "cell_type": "code",
   "execution_count": 1,
   "metadata": {},
   "outputs": [
    {
     "name": "stdout",
     "output_type": "stream",
     "text": [
      "Requirement already satisfied: pennylane in /Users/krethik/miniconda3/envs/qiskit/lib/python3.12/site-packages (0.36.0)\n",
      "Requirement already satisfied: scikit-learn in /Users/krethik/miniconda3/envs/qiskit/lib/python3.12/site-packages (1.4.2)\n",
      "Requirement already satisfied: matplotlib in /Users/krethik/miniconda3/envs/qiskit/lib/python3.12/site-packages (3.9.0)\n",
      "Collecting torch\n",
      "  Downloading torch-2.3.0-cp312-none-macosx_11_0_arm64.whl.metadata (26 kB)\n",
      "Requirement already satisfied: numpy<2.0 in /Users/krethik/miniconda3/envs/qiskit/lib/python3.12/site-packages (from pennylane) (1.26.4)\n",
      "Requirement already satisfied: scipy in /Users/krethik/miniconda3/envs/qiskit/lib/python3.12/site-packages (from pennylane) (1.13.0)\n",
      "Requirement already satisfied: networkx in /Users/krethik/miniconda3/envs/qiskit/lib/python3.12/site-packages (from pennylane) (3.3)\n",
      "Requirement already satisfied: rustworkx in /Users/krethik/miniconda3/envs/qiskit/lib/python3.12/site-packages (from pennylane) (0.14.2)\n",
      "Requirement already satisfied: autograd in /Users/krethik/miniconda3/envs/qiskit/lib/python3.12/site-packages (from pennylane) (1.6.2)\n",
      "Requirement already satisfied: toml in /Users/krethik/miniconda3/envs/qiskit/lib/python3.12/site-packages (from pennylane) (0.10.2)\n",
      "Requirement already satisfied: appdirs in /Users/krethik/miniconda3/envs/qiskit/lib/python3.12/site-packages (from pennylane) (1.4.4)\n",
      "Requirement already satisfied: semantic-version>=2.7 in /Users/krethik/miniconda3/envs/qiskit/lib/python3.12/site-packages (from pennylane) (2.10.0)\n",
      "Requirement already satisfied: autoray>=0.6.1 in /Users/krethik/miniconda3/envs/qiskit/lib/python3.12/site-packages (from pennylane) (0.6.12)\n",
      "Requirement already satisfied: cachetools in /Users/krethik/miniconda3/envs/qiskit/lib/python3.12/site-packages (from pennylane) (5.3.3)\n",
      "Requirement already satisfied: pennylane-lightning>=0.36 in /Users/krethik/miniconda3/envs/qiskit/lib/python3.12/site-packages (from pennylane) (0.36.0)\n",
      "Requirement already satisfied: requests in /Users/krethik/miniconda3/envs/qiskit/lib/python3.12/site-packages (from pennylane) (2.31.0)\n",
      "Requirement already satisfied: typing-extensions in /Users/krethik/miniconda3/envs/qiskit/lib/python3.12/site-packages (from pennylane) (4.11.0)\n",
      "Requirement already satisfied: joblib>=1.2.0 in /Users/krethik/miniconda3/envs/qiskit/lib/python3.12/site-packages (from scikit-learn) (1.4.2)\n",
      "Requirement already satisfied: threadpoolctl>=2.0.0 in /Users/krethik/miniconda3/envs/qiskit/lib/python3.12/site-packages (from scikit-learn) (3.5.0)\n",
      "Requirement already satisfied: contourpy>=1.0.1 in /Users/krethik/miniconda3/envs/qiskit/lib/python3.12/site-packages (from matplotlib) (1.2.1)\n",
      "Requirement already satisfied: cycler>=0.10 in /Users/krethik/miniconda3/envs/qiskit/lib/python3.12/site-packages (from matplotlib) (0.12.1)\n",
      "Requirement already satisfied: fonttools>=4.22.0 in /Users/krethik/miniconda3/envs/qiskit/lib/python3.12/site-packages (from matplotlib) (4.51.0)\n",
      "Requirement already satisfied: kiwisolver>=1.3.1 in /Users/krethik/miniconda3/envs/qiskit/lib/python3.12/site-packages (from matplotlib) (1.4.5)\n",
      "Requirement already satisfied: packaging>=20.0 in /Users/krethik/miniconda3/envs/qiskit/lib/python3.12/site-packages (from matplotlib) (24.0)\n",
      "Requirement already satisfied: pillow>=8 in /Users/krethik/miniconda3/envs/qiskit/lib/python3.12/site-packages (from matplotlib) (10.3.0)\n",
      "Requirement already satisfied: pyparsing>=2.3.1 in /Users/krethik/miniconda3/envs/qiskit/lib/python3.12/site-packages (from matplotlib) (3.1.2)\n",
      "Requirement already satisfied: python-dateutil>=2.7 in /Users/krethik/miniconda3/envs/qiskit/lib/python3.12/site-packages (from matplotlib) (2.9.0.post0)\n",
      "Collecting filelock (from torch)\n",
      "  Downloading filelock-3.14.0-py3-none-any.whl.metadata (2.8 kB)\n",
      "Requirement already satisfied: sympy in /Users/krethik/miniconda3/envs/qiskit/lib/python3.12/site-packages (from torch) (1.12)\n",
      "Requirement already satisfied: jinja2 in /Users/krethik/miniconda3/envs/qiskit/lib/python3.12/site-packages (from torch) (3.1.4)\n",
      "Collecting fsspec (from torch)\n",
      "  Downloading fsspec-2024.5.0-py3-none-any.whl.metadata (11 kB)\n",
      "Requirement already satisfied: six>=1.5 in /Users/krethik/miniconda3/envs/qiskit/lib/python3.12/site-packages (from python-dateutil>=2.7->matplotlib) (1.16.0)\n",
      "Requirement already satisfied: future>=0.15.2 in /Users/krethik/miniconda3/envs/qiskit/lib/python3.12/site-packages (from autograd->pennylane) (1.0.0)\n",
      "Requirement already satisfied: MarkupSafe>=2.0 in /Users/krethik/miniconda3/envs/qiskit/lib/python3.12/site-packages (from jinja2->torch) (2.1.5)\n",
      "Requirement already satisfied: charset-normalizer<4,>=2 in /Users/krethik/miniconda3/envs/qiskit/lib/python3.12/site-packages (from requests->pennylane) (3.3.2)\n",
      "Requirement already satisfied: idna<4,>=2.5 in /Users/krethik/miniconda3/envs/qiskit/lib/python3.12/site-packages (from requests->pennylane) (3.7)\n",
      "Requirement already satisfied: urllib3<3,>=1.21.1 in /Users/krethik/miniconda3/envs/qiskit/lib/python3.12/site-packages (from requests->pennylane) (2.2.1)\n",
      "Requirement already satisfied: certifi>=2017.4.17 in /Users/krethik/miniconda3/envs/qiskit/lib/python3.12/site-packages (from requests->pennylane) (2024.2.2)\n",
      "Requirement already satisfied: mpmath>=0.19 in /Users/krethik/miniconda3/envs/qiskit/lib/python3.12/site-packages (from sympy->torch) (1.3.0)\n",
      "Downloading torch-2.3.0-cp312-none-macosx_11_0_arm64.whl (61.0 MB)\n",
      "\u001b[2K   \u001b[90m━━━━━━━━━━━━━━━━━━━━━━━━━━━━━━━━━━━━━━━━\u001b[0m \u001b[32m61.0/61.0 MB\u001b[0m \u001b[31m8.6 MB/s\u001b[0m eta \u001b[36m0:00:00\u001b[0m00:01\u001b[0m00:01\u001b[0mm\n",
      "\u001b[?25hDownloading filelock-3.14.0-py3-none-any.whl (12 kB)\n",
      "Downloading fsspec-2024.5.0-py3-none-any.whl (316 kB)\n",
      "\u001b[2K   \u001b[90m━━━━━━━━━━━━━━━━━━━━━━━━━━━━━━━━━━━━━━━━\u001b[0m \u001b[32m316.1/316.1 kB\u001b[0m \u001b[31m9.8 MB/s\u001b[0m eta \u001b[36m0:00:00\u001b[0m\n",
      "\u001b[?25hInstalling collected packages: fsspec, filelock, torch\n",
      "Successfully installed filelock-3.14.0 fsspec-2024.5.0 torch-2.3.0\n",
      "Note: you may need to restart the kernel to use updated packages.\n"
     ]
    }
   ],
   "source": [
    "pip install pennylane scikit-learn matplotlib torch\n"
   ]
  },
  {
   "cell_type": "code",
   "execution_count": null,
   "metadata": {},
   "outputs": [],
   "source": []
  }
 ],
 "metadata": {
  "kernelspec": {
   "display_name": "qiskit",
   "language": "python",
   "name": "python3"
  },
  "language_info": {
   "codemirror_mode": {
    "name": "ipython",
    "version": 3
   },
   "file_extension": ".py",
   "mimetype": "text/x-python",
   "name": "python",
   "nbconvert_exporter": "python",
   "pygments_lexer": "ipython3",
   "version": "3.12.3"
  }
 },
 "nbformat": 4,
 "nbformat_minor": 2
}

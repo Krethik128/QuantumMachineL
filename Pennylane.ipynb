{
 "cells": [
  {
   "cell_type": "code",
   "execution_count": 1,
   "metadata": {},
   "outputs": [],
   "source": [
    "import pennylane as qml\n",
    "import matplotlib.pyplot as plt"
   ]
  },
  {
   "cell_type": "code",
   "execution_count": 6,
   "metadata": {},
   "outputs": [
    {
     "data": {
      "image/png": "[encoded data removed]",
      "text/plain": [
       "<Figure size 400x200 with 1 Axes>"
      ]
     },
     "metadata": {},
     "output_type": "display_data"
    },
    {
     "name": "stdout",
     "output_type": "stream",
     "text": [
      "Probabilities: [0.5 0.5]\n"
     ]
    }
   ],
   "source": [
    "dev1 = qml.device(\"default.qubit\",wires=1)\n",
    "@qml.qnode(dev1)\n",
    "def circuit():\n",
    "    qml.Hadamard(wires=0)\n",
    "    return qml.probs()\n",
    "fig, ax = qml.draw_mpl(circuit)()\n",
    "plt.show()\n",
    "result=circuit()\n",
    "print(\"Probabilities:\",result)"
   ]
  },
  {
   "cell_type": "code",
   "execution_count": 7,
   "metadata": {},
   "outputs": [
    {
     "data": {
      "image/png": "[encoded data removed]",
      "text/plain": [
       "<Figure size 400x200 with 1 Axes>"
      ]
     },
     "metadata": {},
     "output_type": "display_data"
    },
    {
     "name": "stdout",
     "output_type": "stream",
     "text": [
      "Probabilities: [0. 1.]\n"
     ]
    }
   ],
   "source": [
    "dev1 = qml.device(\"default.qubit\",wires=1)\n",
    "@qml.qnode(dev1)\n",
    "def circuit():\n",
    "    qml.X(wires=0)\n",
    "    return qml.probs()\n",
    "fig, ax = qml.draw_mpl(circuit)()\n",
    "plt.show()\n",
    "result=circuit()\n",
    "print(\"Probabilities:\",result)"
   ]
  },
  {
   "cell_type": "code",
   "execution_count": 8,
   "metadata": {},
   "outputs": [
    {
     "data": {
      "image/png": "[encoded data removed]",
      "text/plain": [
       "<Figure size 500x200 with 1 Axes>"
      ]
     },
     "metadata": {},
     "output_type": "display_data"
    },
    {
     "name": "stdout",
     "output_type": "stream",
     "text": [
      "Probabilities: [0.5 0.5]\n"
     ]
    }
   ],
   "source": [
    "dev1 = qml.device(\"default.qubit\",wires=1)\n",
    "@qml.qnode(dev1)\n",
    "def circuit():\n",
    "    qml.Hadamard(wires=0)\n",
    "    qml.X(wires=0)\n",
    "    return qml.probs()\n",
    "fig, ax = qml.draw_mpl(circuit)()\n",
    "plt.show()\n",
    "result=circuit()\n",
    "print(\"Probabilities:\",result)"
   ]
  },
  {
   "cell_type": "code",
   "execution_count": 17,
   "metadata": {},
   "outputs": [
    {
     "name": "stdout",
     "output_type": "stream",
     "text": [
      "Probabilities: probs(wires=[])\n"
     ]
    },
    {
     "ename": "NameError",
     "evalue": "name 'diagram' is not defined",
     "output_type": "error",
     "traceback": [
      "\u001b[0;31m---------------------------------------------------------------------------\u001b[0m",
      "\u001b[0;31mNameError\u001b[0m                                 Traceback (most recent call last)",
      "Cell \u001b[0;32mIn[17], line 16\u001b[0m\n\u001b[1;32m     14\u001b[0m result \u001b[38;5;241m=\u001b[39m circuit()\n\u001b[1;32m     15\u001b[0m \u001b[38;5;28mprint\u001b[39m(\u001b[38;5;124m\"\u001b[39m\u001b[38;5;124mProbabilities:\u001b[39m\u001b[38;5;124m\"\u001b[39m, result)\n\u001b[0;32m---> 16\u001b[0m \u001b[43mdiagram\u001b[49m\u001b[38;5;241m.\u001b[39mshow()\n",
      "\u001b[0;31mNameError\u001b[0m: name 'diagram' is not defined"
     ]
    }
   ],
   "source": [
    "\n",
    "\n",
    "# Define the quantum device\n",
    "dev1 = qml.device(\"default.qubit\", wires=1)\n",
    "\n",
    "# Define the quantum circuit\n",
    "def circuit():\n",
    "    qml.PhaseShift(0.5*math.pi, wires=0)\n",
    "    return qml.probs()\n",
    "\n",
    "# Draw the quantum circuit\n",
    "\n",
    "diagram.show()"
   ]
  },
  {
   "cell_type": "code",
   "execution_count": null,
   "metadata": {},
   "outputs": [],
   "source": []
  }
 ],
 "metadata": {
  "kernelspec": {
   "display_name": "qiskit",
   "language": "python",
   "name": "python3"
  },
  "language_info": {
   "codemirror_mode": {
    "name": "ipython",
    "version": 3
   },
   "file_extension": ".py",
   "mimetype": "text/x-python",
   "name": "python",
   "nbconvert_exporter": "python",
   "pygments_lexer": "ipython3",
   "version": "3.12.3"
  }
 },
 "nbformat": 4,
 "nbformat_minor": 2
}

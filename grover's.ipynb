{
 "cells": [
  {
   "cell_type": "code",
   "execution_count": 8,
   "metadata": {},
   "outputs": [],
   "source": [
    "import numpy as np\n",
    "from qiskit import QuantumCircuit, transpile\n"
   ]
  },
  {
   "cell_type": "code",
   "execution_count": 6,
   "metadata": {},
   "outputs": [],
   "source": [
    "from math import sqrt, pow, pi\n",
    "from qiskit.circuit.library import MCMT\n"
   ]
  },
  {
   "cell_type": "code",
   "execution_count": 7,
   "metadata": {},
   "outputs": [
    {
     "data": {
      "text/html": [
       "<pre style=\"word-wrap: normal;white-space: pre;background: #fff0;line-height: 1.1;font-family: &quot;Courier New&quot;,Courier,monospace\">     ┌───┐     ┌──────────┐┌──────────────┐┌───┐┌─┐               \n",
       "q_0: ┤ H ├─────┤0         ├┤0             ├┤ H ├┤M├───────────────\n",
       "     ├───┤     │          ││              │├───┤└╥┘┌─┐            \n",
       "q_1: ┤ H ├─────┤1         ├┤1             ├┤ H ├─╫─┤M├────────────\n",
       "     ├───┤     │          ││              │├───┤ ║ └╥┘┌─┐         \n",
       "q_2: ┤ H ├─────┤2         ├┤2             ├┤ H ├─╫──╫─┤M├─────────\n",
       "     ├───┤     │          ││  circuit-171 │├───┤ ║  ║ └╥┘┌─┐      \n",
       "q_3: ┤ H ├─────┤3 U_omega ├┤3             ├┤ H ├─╫──╫──╫─┤M├──────\n",
       "     ├───┤     │          ││              │├───┤ ║  ║  ║ └╥┘┌─┐   \n",
       "q_4: ┤ H ├─────┤4         ├┤4             ├┤ H ├─╫──╫──╫──╫─┤M├───\n",
       "     ├───┤     │          ││              │├───┤ ║  ║  ║  ║ └╥┘┌─┐\n",
       "q_5: ┤ H ├─────┤5         ├┤5             ├┤ H ├─╫──╫──╫──╫──╫─┤M├\n",
       "     ├───┤┌───┐│          │└──────────────┘└───┘ ║  ║  ║  ║  ║ └╥┘\n",
       "q_6: ┤ X ├┤ H ├┤6         ├──────────────────────╫──╫──╫──╫──╫──╫─\n",
       "     └───┘└───┘└──────────┘                      ║  ║  ║  ║  ║  ║ \n",
       "c: 6/════════════════════════════════════════════╩══╩══╩══╩══╩══╩═\n",
       "                                                 0  1  2  3  4  5 </pre>"
      ],
      "text/plain": [
       "     ┌───┐     ┌──────────┐┌──────────────┐┌───┐┌─┐               \n",
       "q_0: ┤ H ├─────┤0         ├┤0             ├┤ H ├┤M├───────────────\n",
       "     ├───┤     │          ││              │├───┤└╥┘┌─┐            \n",
       "q_1: ┤ H ├─────┤1         ├┤1             ├┤ H ├─╫─┤M├────────────\n",
       "     ├───┤     │          ││              │├───┤ ║ └╥┘┌─┐         \n",
       "q_2: ┤ H ├─────┤2         ├┤2             ├┤ H ├─╫──╫─┤M├─────────\n",
       "     ├───┤     │          ││  circuit-171 │├───┤ ║  ║ └╥┘┌─┐      \n",
       "q_3: ┤ H ├─────┤3 U_omega ├┤3             ├┤ H ├─╫──╫──╫─┤M├──────\n",
       "     ├───┤     │          ││              │├───┤ ║  ║  ║ └╥┘┌─┐   \n",
       "q_4: ┤ H ├─────┤4         ├┤4             ├┤ H ├─╫──╫──╫──╫─┤M├───\n",
       "     ├───┤     │          ││              │├───┤ ║  ║  ║  ║ └╥┘┌─┐\n",
       "q_5: ┤ H ├─────┤5         ├┤5             ├┤ H ├─╫──╫──╫──╫──╫─┤M├\n",
       "     ├───┤┌───┐│          │└──────────────┘└───┘ ║  ║  ║  ║  ║ └╥┘\n",
       "q_6: ┤ X ├┤ H ├┤6         ├──────────────────────╫──╫──╫──╫──╫──╫─\n",
       "     └───┘└───┘└──────────┘                      ║  ║  ║  ║  ║  ║ \n",
       "c: 6/════════════════════════════════════════════╩══╩══╩══╩══╩══╩═\n",
       "                                                 0  1  2  3  4  5 "
      ]
     },
     "execution_count": 7,
     "metadata": {},
     "output_type": "execute_result"
    }
   ],
   "source": [
    "def diffuser(nqubits):\n",
    "    qc = QuantumCircuit(nqubits)\n",
    "    # Apply H-gates to all qubits\n",
    "    for qubit in range(nqubits):\n",
    "        qc.h(qubit)\n",
    "    # Implement multi-controlled-Z gate\n",
    "    cnz = MCMT('z', num_ctrl_qubits=nqubits-1, num_target_qubits=1)\n",
    "    qc.compose(cnz, inplace=True)\n",
    "    # Apply H-gates again\n",
    "    for qubit in range(nqubits):\n",
    "        qc.h(qubit)\n",
    "    return qc.to_gate()\n",
    "\n",
    "# Define the string size\n",
    "n = 6\n",
    "\n",
    "# Create the oracle\n",
    "qc_oracle = QuantumCircuit(n+1)\n",
    "qc_oracle.cx(1, n)\n",
    "qc_oracle.cx(0, n)  # String is equal to 110000\n",
    "oracle_gate = qc_oracle.to_gate()\n",
    "oracle_gate.name = \"U_omega\"\n",
    "\n",
    "# Create the Grover circuit\n",
    "grover_circuit = QuantumCircuit(n+1, n)\n",
    "grover_circuit.x(n)  # Create the Ancilla |->\n",
    "\n",
    "# Apply Hadamard gates to all qubits\n",
    "grover_circuit.h(range(n+1))\n",
    "\n",
    "# Number of iterations of oracle and diffuser needed\n",
    "t = int(pi * sqrt(pow(pow(2, n), 0.5)) / 4 - 0.5)\n",
    "\n",
    "for _ in range(t):\n",
    "    grover_circuit.append(oracle_gate, range(n+1))\n",
    "    grover_circuit.append(diffuser(n), range(n))\n",
    "\n",
    "# Apply Hadamard gates again\n",
    "grover_circuit.h(range(n))\n",
    "\n",
    "# Measure all qubits\n",
    "grover_circuit.measure(range(n), range(n))\n",
    "\n",
    "# Draw the circuit\n",
    "grover_circuit.draw()"
   ]
  },
  {
   "cell_type": "code",
   "execution_count": null,
   "metadata": {},
   "outputs": [],
   "source": []
  }
 ],
 "metadata": {
  "kernelspec": {
   "display_name": "qiskit",
   "language": "python",
   "name": "python3"
  },
  "language_info": {
   "codemirror_mode": {
    "name": "ipython",
    "version": 3
   },
   "file_extension": ".py",
   "mimetype": "text/x-python",
   "name": "python",
   "nbconvert_exporter": "python",
   "pygments_lexer": "ipython3",
   "version": "3.12.3"
  }
 },
 "nbformat": 4,
 "nbformat_minor": 2
}
